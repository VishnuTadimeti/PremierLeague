{
 "cells": [
  {
   "cell_type": "code",
   "execution_count": 21,
   "metadata": {},
   "outputs": [
    {
     "data": {
      "text/html": [
       "<iframe style=\"border:0;outline:none;overflow:hidden\" srcdoc=\"&lt;!DOCTYPE html&gt; &lt;html lang=&quot;en&quot;&gt; &lt;head&gt; &lt;meta charset=&quot;utf-8&quot; /&gt; &lt;link href=&quot;https://www.highcharts.com/highslide/highslide.css&quot; rel=&quot;stylesheet&quot; /&gt; &lt;script type=&quot;text/javascript&quot; src=&quot;https://ajax.googleapis.com/ajax/libs/jquery/1.9.1/jquery.min.js&quot;&gt;&lt;/script&gt; &lt;script type=&quot;text/javascript&quot; src=&quot;https://code.highcharts.com/highcharts.js&quot;&gt;&lt;/script&gt; &lt;script type=&quot;text/javascript&quot; src=&quot;https://code.highcharts.com/highcharts-more.js&quot;&gt;&lt;/script&gt; &lt;script type=&quot;text/javascript&quot; src=&quot;https://code.highcharts.com/modules/heatmap.js&quot;&gt;&lt;/script&gt; &lt;script type=&quot;text/javascript&quot; src=&quot;https://code.highcharts.com/modules/exporting.js&quot;&gt;&lt;/script&gt; &lt;/head&gt; &lt;body style=&quot;margin:0;padding:0&quot;&gt; &lt;div id=&quot;container&quot; style=&quot;&quot;&gt;Loading....&lt;/div&gt; &lt;script&gt; $(function(){ Highcharts.setOptions({&quot;global&quot;: {}, &quot;lang&quot;: {}}); var option = {&quot;chart&quot;: {&quot;renderTo&quot;: &quot;container&quot;, &quot;zoomType&quot;: &quot;x&quot;}, &quot;colors&quot;: {}, &quot;credits&quot;: {&quot;enabled&quot;: false}, &quot;drilldown&quot;: {}, &quot;exporting&quot;: {}, &quot;labels&quot;: {}, &quot;legend&quot;: {}, &quot;loading&quot;: {}, &quot;navigation&quot;: {}, &quot;pane&quot;: {}, &quot;plotOptions&quot;: {}, &quot;series&quot;: {}, &quot;subtitle&quot;: {}, &quot;title&quot;: {&quot;text&quot;: &quot;Chances of winning&quot;}, &quot;tooltip&quot;: {}, &quot;xAxis&quot;: {&quot;type&quot;: &quot;datetime&quot;, &quot;minRange&quot;: 1209600000}, &quot;yAxis&quot;: {&quot;title&quot;: {&quot;text&quot;: &quot;Percentage&quot;}}}; var data = [{&quot;data&quot;: [0.9, 0.72, 0.35, 0.68, 0.7, 0.56, 0.79, 0.88, 0.46, 0.23], &quot;type&quot;: &quot;area&quot;, &quot;name&quot;: &quot;Arsenal&quot;, &quot;pointInterval&quot;: 86400000, &quot;pointStart&quot;: Date.UTC(2017,0,1,0,0,0,0.0)}]; option.series = data; var chart = new Highcharts.Chart(option); }); &lt;/script&gt; &lt;/body&gt; &lt;/html&gt;\" height=520 width=820></iframe>"
      ],
      "text/plain": [
       "<highcharts.highcharts.highcharts.Highchart at 0x106a6ffd0>"
      ]
     },
     "execution_count": 21,
     "metadata": {},
     "output_type": "execute_result"
    }
   ],
   "source": [
    "import datetime\n",
    "from highcharts import Highchart\n",
    "\n",
    "H = Highchart()\n",
    "\n",
    "H.set_options('chart', {'zoomType': 'x'})\n",
    "H.set_options('xAxis', {'type': 'datetime',\n",
    "            'minRange': 14 * 24 * 3600000})\n",
    "\n",
    "H.set_options('yAxis',{ 'title': { 'text': 'Percentage'}})\n",
    "H.set_options('title', {'text': 'Chances of winning'})\n",
    "# H.set_options('legend', {'enabled': False})\n",
    "\n",
    "\n",
    "\n",
    "data =  [0.90, 0.72, 0.35, 0.68, 0.70, 0.56, 0.79, 0.88, 0.46, 0.23]\n",
    "\n",
    "H.add_data_set(data, 'area', 'Arsenal', pointInterval=24 * 3600 * 1000, \n",
    "\tpointStart=datetime.datetime(2017,1,1))\n",
    "\n",
    "H"
   ]
  },
  {
   "cell_type": "code",
   "execution_count": null,
   "metadata": {},
   "outputs": [],
   "source": []
  }
 ],
 "metadata": {
  "kernelspec": {
   "display_name": "Python 3",
   "language": "python",
   "name": "python3"
  },
  "language_info": {
   "codemirror_mode": {
    "name": "ipython",
    "version": 3
   },
   "file_extension": ".py",
   "mimetype": "text/x-python",
   "name": "python",
   "nbconvert_exporter": "python",
   "pygments_lexer": "ipython3",
   "version": "3.6.2"
  }
 },
 "nbformat": 4,
 "nbformat_minor": 2
}
